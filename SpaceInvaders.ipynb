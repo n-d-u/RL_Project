{
 "cells": [
  {
   "cell_type": "code",
   "execution_count": 4,
   "metadata": {},
   "outputs": [
    {
     "name": "stdout",
     "output_type": "stream",
     "text": [
      "\u001b[92m[SUPPORTED]    \u001b[0m       space_invaders        roms/Space Invaders.bin\n",
      "\u001b[92m[SUPPORTED]    \u001b[0m       journey_escape        roms/Journey Escape.bin\n",
      "\n",
      "\n",
      "\n",
      "Imported 2 / 2 ROMs\n"
     ]
    }
   ],
   "source": [
    "from cupshelpers import activateNewPrinter\n",
    "import gym \n",
    "import random\n",
    "!ale-import-roms roms/\n",
    "from rl.policy import LinearAnnealedPolicy\n",
    "from rl.agents import DQNAgent\n",
    "import numpy as np\n",
    "from tensorflow.keras.models import Sequential\n",
    "from tensorflow.keras.optimizers import Adam\n",
    "from tensorflow.keras.layers import Dense\n",
    "from tensorflow.keras.layers import Flatten\n",
    "from tensorflow.keras.layers import Conv2D\n",
    "from rl.memory import SequentialMemory\n",
    "from rl.policy import EpsGreedyQPolicy"
   ]
  },
  {
   "cell_type": "code",
   "execution_count": 5,
   "metadata": {},
   "outputs": [],
   "source": [
    "game = 'SpaceInvaders-v0'\n",
    "environment = gym.make(game, render_mode = \"human\")\n",
    "h, w, ch = environment.observation_space.shape"
   ]
  },
  {
   "cell_type": "markdown",
   "metadata": {},
   "source": [
    "# CNN "
   ]
  },
  {
   "cell_type": "code",
   "execution_count": 11,
   "metadata": {},
   "outputs": [],
   "source": [
    "CNN = Sequential()\n",
    "CNN.add(Conv2D(32,(8,8), input_shape = (3,h, w, ch), strides = (4,4), activation = 'relu'))\n",
    "CNN.add(Conv2D(64,(4,4), strides = (2,2), activation = 'relu'))\n",
    "CNN.add(Conv2D(64,(3,3), strides = (1,1), activation = 'relu'))\n",
    "CNN.add(Flatten())\n",
    "\n",
    "CNN.add(Dense(512,activation='relu'))\n",
    "CNN.add(Dense(256,activation='relu'))\n",
    "CNN.add(Dense(environment.action_space.n, activation = 'linear'))"
   ]
  },
  {
   "cell_type": "markdown",
   "metadata": {},
   "source": [
    "# Keras RL"
   ]
  },
  {
   "cell_type": "code",
   "execution_count": 18,
   "metadata": {},
   "outputs": [],
   "source": [
    "policy1 = EpsGreedyQPolicy()\n",
    "agent = DQNAgent(model = CNN, memory = SequentialMemory(limit=1000, window_length = 3), \n",
    "                    policy = LinearAnnealedPolicy(policy1, attr='eps', value_max=1., value_min=.1, value_test=.2, nb_steps=10000), \n",
    "                    enable_dueling_network=True, dueling_type='avg', \n",
    "                    nb_actions=environment.action_space.n, nb_steps_warmup=1000 )\n",
    "\n",
    "\n",
    "agent.compile(Adam(lr=1e-4))\n",
    "\n",
   ]
  },
  {
   "cell_type": "code",
   "execution_count": 26,
   "metadata": {},
   "outputs": [
    {
     "name": "stdout",
     "output_type": "stream",
     "text": [
      "Training for 10000 steps ...\n",
      "Interval 1 (0 steps performed)\n",
      "10000/10000 [==============================] - 8909s 891ms/step - reward: 0.2455\n",
      "done, took 8909.364 seconds\n"
     ]
    },
    {
     "data": {
      "text/plain": [
       "<tensorflow.python.keras.callbacks.History at 0x7ffa04785250>"
      ]
     },
     "execution_count": 26,
     "metadata": {},
     "output_type": "execute_result"
    }
   ],
   "source": [
    "agent.fit(environment, nb_steps=10000, visualize=False, verbose=1)\n"
   ]
  },
  {
   "cell_type": "code",
   "execution_count": 31,
   "metadata": {},
   "outputs": [],
   "source": [
    "agent.save_weights('Weights/dqn_weights.h5')"
   ]
  }
 ],
 "metadata": {
  "interpreter": {
   "hash": "916dbcbb3f70747c44a77c7bcd40155683ae19c65e1c03b4aa3499c5328201f1"
  },
  "kernelspec": {
   "display_name": "Python 3 (ipykernel)",
   "language": "python",
   "name": "python3"
  },
  "language_info": {
   "codemirror_mode": {
    "name": "ipython",
    "version": 3
   },
   "file_extension": ".py",
   "mimetype": "text/x-python",
   "name": "python",
   "nbconvert_exporter": "python",
   "pygments_lexer": "ipython3",
   "version": "3.9.7"
  }
 },
 "nbformat": 4,
 "nbformat_minor": 4
}
